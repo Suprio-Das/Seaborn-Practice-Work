{
 "cells": [
  {
   "cell_type": "code",
   "execution_count": 1,
   "id": "8abc534d-97dd-40bd-bc8e-6a48185d5402",
   "metadata": {},
   "outputs": [
    {
     "name": "stdout",
     "output_type": "stream",
     "text": [
      "Categorical Plots are here...\n"
     ]
    }
   ],
   "source": [
    "print(\"Categorical Plots are here...\")"
   ]
  }
 ],
 "metadata": {
  "kernelspec": {
   "display_name": "Python [conda env:base] *",
   "language": "python",
   "name": "conda-base-py"
  },
  "language_info": {
   "codemirror_mode": {
    "name": "ipython",
    "version": 3
   },
   "file_extension": ".py",
   "mimetype": "text/x-python",
   "name": "python",
   "nbconvert_exporter": "python",
   "pygments_lexer": "ipython3",
   "version": "3.12.7"
  }
 },
 "nbformat": 4,
 "nbformat_minor": 5
}
